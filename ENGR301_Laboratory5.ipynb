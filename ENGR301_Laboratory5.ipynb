{
 "cells": [
  {
   "cell_type": "markdown",
   "id": "8bb46d48",
   "metadata": {},
   "source": [
    "Liam Brown  \n",
    "lpb7  \n",
    "3/1/23"
   ]
  },
  {
   "cell_type": "markdown",
   "id": "44428b28",
   "metadata": {},
   "source": [
    "## Part 1 ##"
   ]
  },
  {
   "cell_type": "markdown",
   "id": "2fe3ddab",
   "metadata": {},
   "source": [
    "**Import the appropriate packages (numpy, pandas, matplotlib, seaborn)**"
   ]
  },
  {
   "cell_type": "code",
   "execution_count": 1,
   "id": "f0c2430c",
   "metadata": {},
   "outputs": [],
   "source": [
    "import pandas as pd\n",
    "import matplotlib.pyplot as plt\n",
    "import numpy as np\n",
    "import seaborn as sns"
   ]
  },
  {
   "cell_type": "markdown",
   "id": "fce164f5",
   "metadata": {},
   "source": [
    "**Import the training data into a data frame, and the test data into a separate data frame.**"
   ]
  },
  {
   "cell_type": "code",
   "execution_count": 2,
   "id": "95294c0c",
   "metadata": {},
   "outputs": [],
   "source": [
    "dftrain = pd.read_csv('genes_train.csv')\n",
    "dftest = pd.read_csv('genes_test.csv')"
   ]
  },
  {
   "cell_type": "markdown",
   "id": "2819f2fa",
   "metadata": {},
   "source": [
    "**What is the shape of the training data? Is it unbalanced?**"
   ]
  },
  {
   "cell_type": "code",
   "execution_count": 3,
   "id": "6282ba15",
   "metadata": {},
   "outputs": [
    {
     "data": {
      "text/plain": [
       "(40, 7131)"
      ]
     },
     "execution_count": 3,
     "metadata": {},
     "output_type": "execute_result"
    }
   ],
   "source": [
    "dftrain.shape"
   ]
  },
  {
   "cell_type": "code",
   "execution_count": 4,
   "id": "e2111c27",
   "metadata": {},
   "outputs": [
    {
     "data": {
      "text/html": [
       "<div>\n",
       "<style scoped>\n",
       "    .dataframe tbody tr th:only-of-type {\n",
       "        vertical-align: middle;\n",
       "    }\n",
       "\n",
       "    .dataframe tbody tr th {\n",
       "        vertical-align: top;\n",
       "    }\n",
       "\n",
       "    .dataframe thead th {\n",
       "        text-align: right;\n",
       "    }\n",
       "</style>\n",
       "<table border=\"1\" class=\"dataframe\">\n",
       "  <thead>\n",
       "    <tr style=\"text-align: right;\">\n",
       "      <th></th>\n",
       "      <th>AFFX-BioB-5_at (endogenous control)</th>\n",
       "      <th>AFFX-BioB-M_at (endogenous control)</th>\n",
       "      <th>AFFX-BioB-3_at (endogenous control)</th>\n",
       "      <th>AFFX-BioC-5_at (endogenous control)</th>\n",
       "      <th>AFFX-BioC-3_at (endogenous control)</th>\n",
       "      <th>AFFX-BioDn-5_at (endogenous control)</th>\n",
       "      <th>AFFX-BioDn-3_at (endogenous control)</th>\n",
       "      <th>AFFX-CreX-5_at (endogenous control)</th>\n",
       "      <th>AFFX-CreX-3_at (endogenous control)</th>\n",
       "      <th>AFFX-BioB-5_st (endogenous control)</th>\n",
       "      <th>...</th>\n",
       "      <th>GB DEF = Calcium/calmodulin-dependent protein kinase II delta E mRNA; partial cds</th>\n",
       "      <th>TUBULIN ALPHA-4 CHAIN</th>\n",
       "      <th>CYP4B1 Cytochrome P450; subfamily IVB; polypeptide 1</th>\n",
       "      <th>PTGER3 Prostaglandin E receptor 3 (subtype EP3) {alternative products}.2</th>\n",
       "      <th>HMG2 High-mobility group (nonhistone chromosomal) protein 2.1</th>\n",
       "      <th>RB1 Retinoblastoma 1 (including osteosarcoma).1</th>\n",
       "      <th>GB DEF = Glycophorin Sta (type A) exons 3 and 4; partial</th>\n",
       "      <th>GB DEF = mRNA (clone 1A7)</th>\n",
       "      <th>patient</th>\n",
       "      <th>cancer type</th>\n",
       "    </tr>\n",
       "  </thead>\n",
       "  <tbody>\n",
       "    <tr>\n",
       "      <th>0</th>\n",
       "      <td>-214</td>\n",
       "      <td>-153</td>\n",
       "      <td>-58</td>\n",
       "      <td>88</td>\n",
       "      <td>-295</td>\n",
       "      <td>-558</td>\n",
       "      <td>199</td>\n",
       "      <td>-176</td>\n",
       "      <td>252</td>\n",
       "      <td>206</td>\n",
       "      <td>...</td>\n",
       "      <td>-125</td>\n",
       "      <td>389</td>\n",
       "      <td>-37</td>\n",
       "      <td>793</td>\n",
       "      <td>329</td>\n",
       "      <td>36</td>\n",
       "      <td>191</td>\n",
       "      <td>-37</td>\n",
       "      <td>1</td>\n",
       "      <td>ALL</td>\n",
       "    </tr>\n",
       "    <tr>\n",
       "      <th>1</th>\n",
       "      <td>-139</td>\n",
       "      <td>-73</td>\n",
       "      <td>-1</td>\n",
       "      <td>283</td>\n",
       "      <td>-264</td>\n",
       "      <td>-400</td>\n",
       "      <td>-330</td>\n",
       "      <td>-168</td>\n",
       "      <td>101</td>\n",
       "      <td>74</td>\n",
       "      <td>...</td>\n",
       "      <td>-36</td>\n",
       "      <td>442</td>\n",
       "      <td>-17</td>\n",
       "      <td>782</td>\n",
       "      <td>295</td>\n",
       "      <td>11</td>\n",
       "      <td>76</td>\n",
       "      <td>-14</td>\n",
       "      <td>2</td>\n",
       "      <td>ALL</td>\n",
       "    </tr>\n",
       "    <tr>\n",
       "      <th>2</th>\n",
       "      <td>-76</td>\n",
       "      <td>-49</td>\n",
       "      <td>-307</td>\n",
       "      <td>309</td>\n",
       "      <td>-376</td>\n",
       "      <td>-650</td>\n",
       "      <td>33</td>\n",
       "      <td>-367</td>\n",
       "      <td>206</td>\n",
       "      <td>-215</td>\n",
       "      <td>...</td>\n",
       "      <td>33</td>\n",
       "      <td>168</td>\n",
       "      <td>52</td>\n",
       "      <td>1138</td>\n",
       "      <td>777</td>\n",
       "      <td>41</td>\n",
       "      <td>228</td>\n",
       "      <td>-41</td>\n",
       "      <td>3</td>\n",
       "      <td>ALL</td>\n",
       "    </tr>\n",
       "    <tr>\n",
       "      <th>3</th>\n",
       "      <td>-135</td>\n",
       "      <td>-114</td>\n",
       "      <td>265</td>\n",
       "      <td>12</td>\n",
       "      <td>-419</td>\n",
       "      <td>-585</td>\n",
       "      <td>158</td>\n",
       "      <td>-253</td>\n",
       "      <td>49</td>\n",
       "      <td>31</td>\n",
       "      <td>...</td>\n",
       "      <td>218</td>\n",
       "      <td>174</td>\n",
       "      <td>-110</td>\n",
       "      <td>627</td>\n",
       "      <td>170</td>\n",
       "      <td>-50</td>\n",
       "      <td>126</td>\n",
       "      <td>-91</td>\n",
       "      <td>4</td>\n",
       "      <td>ALL</td>\n",
       "    </tr>\n",
       "    <tr>\n",
       "      <th>4</th>\n",
       "      <td>-106</td>\n",
       "      <td>-125</td>\n",
       "      <td>-76</td>\n",
       "      <td>168</td>\n",
       "      <td>-230</td>\n",
       "      <td>-284</td>\n",
       "      <td>4</td>\n",
       "      <td>-122</td>\n",
       "      <td>70</td>\n",
       "      <td>252</td>\n",
       "      <td>...</td>\n",
       "      <td>57</td>\n",
       "      <td>504</td>\n",
       "      <td>-26</td>\n",
       "      <td>250</td>\n",
       "      <td>314</td>\n",
       "      <td>14</td>\n",
       "      <td>56</td>\n",
       "      <td>-25</td>\n",
       "      <td>5</td>\n",
       "      <td>ALL</td>\n",
       "    </tr>\n",
       "  </tbody>\n",
       "</table>\n",
       "<p>5 rows × 7131 columns</p>\n",
       "</div>"
      ],
      "text/plain": [
       "   AFFX-BioB-5_at (endogenous control)  AFFX-BioB-M_at (endogenous control)  \\\n",
       "0                                 -214                                 -153   \n",
       "1                                 -139                                  -73   \n",
       "2                                  -76                                  -49   \n",
       "3                                 -135                                 -114   \n",
       "4                                 -106                                 -125   \n",
       "\n",
       "   AFFX-BioB-3_at (endogenous control)  AFFX-BioC-5_at (endogenous control)  \\\n",
       "0                                  -58                                   88   \n",
       "1                                   -1                                  283   \n",
       "2                                 -307                                  309   \n",
       "3                                  265                                   12   \n",
       "4                                  -76                                  168   \n",
       "\n",
       "   AFFX-BioC-3_at (endogenous control)  AFFX-BioDn-5_at (endogenous control)  \\\n",
       "0                                 -295                                  -558   \n",
       "1                                 -264                                  -400   \n",
       "2                                 -376                                  -650   \n",
       "3                                 -419                                  -585   \n",
       "4                                 -230                                  -284   \n",
       "\n",
       "   AFFX-BioDn-3_at (endogenous control)  AFFX-CreX-5_at (endogenous control)  \\\n",
       "0                                   199                                 -176   \n",
       "1                                  -330                                 -168   \n",
       "2                                    33                                 -367   \n",
       "3                                   158                                 -253   \n",
       "4                                     4                                 -122   \n",
       "\n",
       "   AFFX-CreX-3_at (endogenous control)  AFFX-BioB-5_st (endogenous control)  \\\n",
       "0                                  252                                  206   \n",
       "1                                  101                                   74   \n",
       "2                                  206                                 -215   \n",
       "3                                   49                                   31   \n",
       "4                                   70                                  252   \n",
       "\n",
       "   ...  \\\n",
       "0  ...   \n",
       "1  ...   \n",
       "2  ...   \n",
       "3  ...   \n",
       "4  ...   \n",
       "\n",
       "   GB DEF = Calcium/calmodulin-dependent protein kinase II delta E mRNA; partial cds  \\\n",
       "0                                               -125                                   \n",
       "1                                                -36                                   \n",
       "2                                                 33                                   \n",
       "3                                                218                                   \n",
       "4                                                 57                                   \n",
       "\n",
       "   TUBULIN ALPHA-4 CHAIN  \\\n",
       "0                    389   \n",
       "1                    442   \n",
       "2                    168   \n",
       "3                    174   \n",
       "4                    504   \n",
       "\n",
       "   CYP4B1 Cytochrome P450; subfamily IVB; polypeptide 1  \\\n",
       "0                                                -37      \n",
       "1                                                -17      \n",
       "2                                                 52      \n",
       "3                                               -110      \n",
       "4                                                -26      \n",
       "\n",
       "   PTGER3 Prostaglandin E receptor 3 (subtype EP3) {alternative products}.2  \\\n",
       "0                                                793                          \n",
       "1                                                782                          \n",
       "2                                               1138                          \n",
       "3                                                627                          \n",
       "4                                                250                          \n",
       "\n",
       "   HMG2 High-mobility group (nonhistone chromosomal) protein 2.1  \\\n",
       "0                                                329               \n",
       "1                                                295               \n",
       "2                                                777               \n",
       "3                                                170               \n",
       "4                                                314               \n",
       "\n",
       "   RB1 Retinoblastoma 1 (including osteosarcoma).1  \\\n",
       "0                                               36   \n",
       "1                                               11   \n",
       "2                                               41   \n",
       "3                                              -50   \n",
       "4                                               14   \n",
       "\n",
       "   GB DEF = Glycophorin Sta (type A) exons 3 and 4; partial  \\\n",
       "0                                                191          \n",
       "1                                                 76          \n",
       "2                                                228          \n",
       "3                                                126          \n",
       "4                                                 56          \n",
       "\n",
       "   GB DEF = mRNA (clone 1A7)  patient  cancer type  \n",
       "0                        -37        1          ALL  \n",
       "1                        -14        2          ALL  \n",
       "2                        -41        3          ALL  \n",
       "3                        -91        4          ALL  \n",
       "4                        -25        5          ALL  \n",
       "\n",
       "[5 rows x 7131 columns]"
      ]
     },
     "execution_count": 4,
     "metadata": {},
     "output_type": "execute_result"
    }
   ],
   "source": [
    "dftrain.head()"
   ]
  },
  {
   "cell_type": "markdown",
   "id": "da4d7e55",
   "metadata": {},
   "source": [
    "> There are 40 rows and 7,131 columns. There are 40 patients in the training data and 7,129 genes being analyzed. The data is unbalanced and the model may experience overfitting. "
   ]
  },
  {
   "cell_type": "markdown",
   "id": "204e9908",
   "metadata": {},
   "source": [
    "**What is the number of patients with ALL and AML in the training data? Is this output data \n",
    "balanced or unbalanced? Why?**"
   ]
  },
  {
   "cell_type": "code",
   "execution_count": 5,
   "id": "2aad575c",
   "metadata": {},
   "outputs": [
    {
     "data": {
      "text/plain": [
       "ALL    29\n",
       "AML    11\n",
       "Name: cancer type, dtype: int64"
      ]
     },
     "execution_count": 5,
     "metadata": {},
     "output_type": "execute_result"
    }
   ],
   "source": [
    "dftrain['cancer type'].value_counts()"
   ]
  },
  {
   "cell_type": "markdown",
   "id": "d0ed65c6",
   "metadata": {},
   "source": [
    ">There are 29 patients with ALL and 11 patients with AML. The output data is at about a 25% to 75% split so it is unbalanced. There are more ALL training patients available to the model than AML. "
   ]
  },
  {
   "cell_type": "markdown",
   "id": "2d3d0c18",
   "metadata": {},
   "source": [
    "**Find the maximum, minimum, and mean of the first few rows of the training data. If  the  maximum,  minimum,  and mean for a given patient are very far apart, it is likely that the data are not on the same scale. Is that the case here? Is this a problem? Why or why not? Based on your answers above, do we need to scale the data?**"
   ]
  },
  {
   "cell_type": "code",
   "execution_count": 6,
   "id": "98ddc3d2",
   "metadata": {},
   "outputs": [
    {
     "data": {
      "text/plain": [
       "0     31086\n",
       "1     29288\n",
       "2     28056\n",
       "3     31449\n",
       "4     29543\n",
       "5     38467\n",
       "6     41911\n",
       "7     40065\n",
       "8     23602\n",
       "9     28033\n",
       "10    25966\n",
       "11    30546\n",
       "12    30797\n",
       "13    28519\n",
       "14    30256\n",
       "15    27268\n",
       "16    28952\n",
       "17    32645\n",
       "18    33143\n",
       "19    27358\n",
       "20    33548\n",
       "21    39558\n",
       "22    36417\n",
       "23    27983\n",
       "24    32785\n",
       "25    31614\n",
       "26    31261\n",
       "27    29833\n",
       "28    30354\n",
       "29    25055\n",
       "30    28350\n",
       "31    25093\n",
       "32    32946\n",
       "33    28698\n",
       "34    61228\n",
       "35    37164\n",
       "36    32204\n",
       "37    29169\n",
       "38    45815\n",
       "39    29136\n",
       "dtype: int64"
      ]
     },
     "execution_count": 6,
     "metadata": {},
     "output_type": "execute_result"
    }
   ],
   "source": [
    "dftrain.max(numeric_only=True,axis=1)"
   ]
  },
  {
   "cell_type": "code",
   "execution_count": 7,
   "id": "4b5e82be",
   "metadata": {},
   "outputs": [
    {
     "data": {
      "text/plain": [
       "0    -19826\n",
       "1    -17930\n",
       "2    -27182\n",
       "3    -23396\n",
       "4    -10339\n",
       "5    -21658\n",
       "6    -24024\n",
       "7    -27570\n",
       "8    -25171\n",
       "9    -12500\n",
       "10   -17480\n",
       "11   -15256\n",
       "12   -12854\n",
       "13   -14937\n",
       "14   -13380\n",
       "15   -10492\n",
       "16   -19523\n",
       "17    -8692\n",
       "18   -11572\n",
       "19   -13838\n",
       "20    -7397\n",
       "21   -17179\n",
       "22   -14937\n",
       "23   -17368\n",
       "24   -17377\n",
       "25   -10652\n",
       "26   -20406\n",
       "27   -20376\n",
       "28    -9501\n",
       "29   -17580\n",
       "30   -25491\n",
       "31   -28400\n",
       "32   -27811\n",
       "33   -17310\n",
       "34   -16281\n",
       "35   -27398\n",
       "36   -23673\n",
       "37   -23645\n",
       "38   -21984\n",
       "39   -21296\n",
       "dtype: int64"
      ]
     },
     "execution_count": 7,
     "metadata": {},
     "output_type": "execute_result"
    }
   ],
   "source": [
    "dftrain.min(numeric_only=True,axis=1)"
   ]
  },
  {
   "cell_type": "code",
   "execution_count": 8,
   "id": "3ea86062",
   "metadata": {},
   "outputs": [
    {
     "data": {
      "text/plain": [
       "0     641.277279\n",
       "1     690.149790\n",
       "2     698.210379\n",
       "3     600.901543\n",
       "4     679.438289\n",
       "5     564.719355\n",
       "6     584.356662\n",
       "7     571.280084\n",
       "8     789.604208\n",
       "9     599.400421\n",
       "10    632.166760\n",
       "11    492.532819\n",
       "12    674.563815\n",
       "13    648.522581\n",
       "14    705.682188\n",
       "15    624.492847\n",
       "16    791.292987\n",
       "17    557.489902\n",
       "18    558.555820\n",
       "19    954.292006\n",
       "20    577.572230\n",
       "21    524.687798\n",
       "22    532.180926\n",
       "23    662.077279\n",
       "24    597.783450\n",
       "25    603.232398\n",
       "26    501.277279\n",
       "27    673.188920\n",
       "28    556.389201\n",
       "29    718.837868\n",
       "30    598.569285\n",
       "31    676.830435\n",
       "32    723.466620\n",
       "33    618.776578\n",
       "34    514.429453\n",
       "35    775.039832\n",
       "36    689.156662\n",
       "37    626.803366\n",
       "38    582.118794\n",
       "39    527.750912\n",
       "dtype: float64"
      ]
     },
     "execution_count": 8,
     "metadata": {},
     "output_type": "execute_result"
    }
   ],
   "source": [
    "dftrain.mean(numeric_only=True,axis=1)"
   ]
  },
  {
   "cell_type": "markdown",
   "id": "48d61d9f",
   "metadata": {},
   "source": [
    "> Maximum, minimum, and mean are very far apart in this case so the data is not on the same scale. This is a problem because the model will value greater values more significantly than the smaller values. Because of this, we do need to scale the data. "
   ]
  },
  {
   "cell_type": "markdown",
   "id": "94b9b6eb",
   "metadata": {},
   "source": [
    "**Next, make x_train, y_train, x_test, and y_test manually from the training and test data frames.**"
   ]
  },
  {
   "cell_type": "code",
   "execution_count": 9,
   "id": "02659411",
   "metadata": {},
   "outputs": [],
   "source": [
    "x_train = dftrain.drop([\"patient\",'cancer type'],axis=1)\n",
    "y_train = dftrain['cancer type']\n",
    "x_test = dftest.drop([\"patient\",'cancer type'],axis=1)\n",
    "y_test = dftest['cancer type']"
   ]
  },
  {
   "cell_type": "markdown",
   "id": "808ab3f5",
   "metadata": {},
   "source": [
    "**What columns will you drop for your x data (there should be two) and what should your y output \n",
    "be?**"
   ]
  },
  {
   "cell_type": "markdown",
   "id": "b5231896",
   "metadata": {},
   "source": [
    "> For the x data, I dropped patient number and cancer type as the patient number does not impact the output and the cancer type is the y output. "
   ]
  },
  {
   "cell_type": "markdown",
   "id": "937eef3f",
   "metadata": {},
   "source": [
    "**First, scale the x_train and x_test data separately using a Standard scaler.**"
   ]
  },
  {
   "cell_type": "code",
   "execution_count": 10,
   "id": "b9e25295",
   "metadata": {},
   "outputs": [],
   "source": [
    "from sklearn.preprocessing import StandardScaler\n",
    "\n",
    "x_train_stdscaled = StandardScaler().fit_transform(x_train)\n",
    "x_test_stdscaled = StandardScaler().fit_transform(x_test)"
   ]
  },
  {
   "cell_type": "markdown",
   "id": "a52de71d",
   "metadata": {},
   "source": [
    "**Build a logistic regression model using this scaled x_training data and make predictions using \n",
    "the scaled x_test data.**"
   ]
  },
  {
   "cell_type": "code",
   "execution_count": 11,
   "id": "58f00f93",
   "metadata": {},
   "outputs": [],
   "source": [
    "from sklearn.linear_model import LogisticRegression\n",
    "\n",
    "model = LogisticRegression()\n",
    "\n",
    "model.fit(x_train_stdscaled, y_train)\n",
    "\n",
    "y_pred = model.predict(x_test_stdscaled)"
   ]
  },
  {
   "cell_type": "markdown",
   "id": "023d25cf",
   "metadata": {},
   "source": [
    "**What is the score of your model on the training data? What is the accuracy? What is the confusion \n",
    "matrix?**"
   ]
  },
  {
   "cell_type": "code",
   "execution_count": 12,
   "id": "50c8d09b",
   "metadata": {},
   "outputs": [
    {
     "name": "stdout",
     "output_type": "stream",
     "text": [
      "Model Training Score:  1.0\n",
      "Confusion matrix: \n",
      " [[18  0]\n",
      " [ 8  6]]\n",
      "Accuracy:  0.75\n"
     ]
    }
   ],
   "source": [
    "from sklearn import metrics\n",
    "\n",
    "print('Model Training Score: ', model.score(x_train_stdscaled,y_train))\n",
    "print(\"Confusion matrix: \\n\", metrics.confusion_matrix(y_test, y_pred, labels=['ALL','AML']))\n",
    "print(\"Accuracy: \", metrics.accuracy_score(y_test, y_pred))"
   ]
  },
  {
   "cell_type": "markdown",
   "id": "c94bcb21",
   "metadata": {},
   "source": [
    "> The model has a training score of 100% so it is 100% accurate at predicting the outputs of the training data. The Accuracy for the test data is 75% and since there are 32 patients in the test data, that means that 8 of the patients were predicted incorrectly. The confusion matrix shows that 8 of the AML cases were predicted to be ALL. No ALL cases were predicted to be AML.  "
   ]
  },
  {
   "cell_type": "markdown",
   "id": "b4a76302",
   "metadata": {},
   "source": [
    "**Build a Gaussian Naïve Bayes classification model using this scaled x_training data and make predictions using the scaled x_test data. What is the score of your model on the training data? What is the accuracy? What is the confusion matrix?**"
   ]
  },
  {
   "cell_type": "code",
   "execution_count": 13,
   "id": "82886622",
   "metadata": {},
   "outputs": [
    {
     "name": "stdout",
     "output_type": "stream",
     "text": [
      "Model Training Score:  1.0\n",
      "Confusion matrix: \n",
      " [[18  0]\n",
      " [ 7  7]]\n",
      "Accuracy:  0.78125\n"
     ]
    }
   ],
   "source": [
    "from sklearn.naive_bayes import GaussianNB\n",
    "\n",
    "model = GaussianNB()\n",
    "\n",
    "model.fit(x_train_stdscaled,y_train)\n",
    "\n",
    "y_pred = model.predict(x_test_stdscaled)\n",
    "print('Model Training Score: ', model.score(x_train_stdscaled,y_train))\n",
    "print(\"Confusion matrix: \\n\", metrics.confusion_matrix(y_test, y_pred, labels=['ALL','AML']))\n",
    "print(\"Accuracy: \", metrics.accuracy_score(y_test, y_pred))"
   ]
  },
  {
   "cell_type": "markdown",
   "id": "362c02d7",
   "metadata": {},
   "source": [
    "> The model had a score of 100% on the training data. The accuracy is 78% and the confusion matrix says that no instances were incorrectly marked as AML, but 7 instances of AML were predicted as ALL. "
   ]
  },
  {
   "cell_type": "markdown",
   "id": "1af49fae",
   "metadata": {},
   "source": [
    "**Why are these scores so low?**"
   ]
  },
  {
   "cell_type": "markdown",
   "id": "3cf9769a",
   "metadata": {},
   "source": [
    "> One of the reasons that the accuracy is lower than the training score is that the training data is overfit. Another possibility is that the scaling is different enough that the model is no longer an accurate predictor for the output. Since the test data is scaled separately it is likely inconsistent with the training data. Both confusion matricies have similar results where AML patients are falsely predicted to be ALL."
   ]
  },
  {
   "cell_type": "markdown",
   "id": "cfc10851",
   "metadata": {},
   "source": [
    "**Scale the training data by hand in the same way the standard scaler does using Pandas (subtract \n",
    "the mean and divide by the standard deviation).**"
   ]
  },
  {
   "cell_type": "code",
   "execution_count": 14,
   "id": "b5a8e73c",
   "metadata": {},
   "outputs": [
    {
     "data": {
      "text/html": [
       "<div>\n",
       "<style scoped>\n",
       "    .dataframe tbody tr th:only-of-type {\n",
       "        vertical-align: middle;\n",
       "    }\n",
       "\n",
       "    .dataframe tbody tr th {\n",
       "        vertical-align: top;\n",
       "    }\n",
       "\n",
       "    .dataframe thead th {\n",
       "        text-align: right;\n",
       "    }\n",
       "</style>\n",
       "<table border=\"1\" class=\"dataframe\">\n",
       "  <thead>\n",
       "    <tr style=\"text-align: right;\">\n",
       "      <th></th>\n",
       "      <th>(AF1q) mRNA</th>\n",
       "      <th>(HepG2) glucose transporter gene mRNA</th>\n",
       "      <th>(apoargC) long mRNA</th>\n",
       "      <th>(ard-1) mRNA</th>\n",
       "      <th>(chromosome 3p25) membrane protein mRNA</th>\n",
       "      <th>(clone 14VS) metallothionein-IG (MT1G) gene</th>\n",
       "      <th>(clone 35.3) DRAL mRNA</th>\n",
       "      <th>(clone 8B1) Br-cadherin mRNA</th>\n",
       "      <th>(clone CC6) NADH-ubiquinone oxidoreductase subunit mRNA; 3' end cds</th>\n",
       "      <th>(clone CTG-A4) mRNA sequence</th>\n",
       "      <th>...</th>\n",
       "      <th>mRNA homologous to S. cerevisiae RAD54</th>\n",
       "      <th>mRNA in the region near the btk gene involved in a-gamma-globulinemia</th>\n",
       "      <th>mRNA translocon-associated protein delta subunit precursor</th>\n",
       "      <th>mRNA-associated protein mrnp41 mRNA</th>\n",
       "      <th>mRNA; clone HH109 (screened by the monoclonal antibody of insulin receptor substrate-1 (IRS-1))</th>\n",
       "      <th>mRNA; clone RES4-22A</th>\n",
       "      <th>mRNA; clone RES4-24A; exon 1; 2; 3; 4</th>\n",
       "      <th>mRNA; clone RES4-24C; exon 1; 2; 3</th>\n",
       "      <th>mRNA; clone RES4-25; partial cds</th>\n",
       "      <th>patient</th>\n",
       "    </tr>\n",
       "  </thead>\n",
       "  <tbody>\n",
       "    <tr>\n",
       "      <th>0</th>\n",
       "      <td>0.125174</td>\n",
       "      <td>-0.491406</td>\n",
       "      <td>-0.537793</td>\n",
       "      <td>0.057981</td>\n",
       "      <td>0.190287</td>\n",
       "      <td>0.576353</td>\n",
       "      <td>0.832240</td>\n",
       "      <td>-0.357679</td>\n",
       "      <td>-0.565462</td>\n",
       "      <td>-0.496470</td>\n",
       "      <td>...</td>\n",
       "      <td>0.719026</td>\n",
       "      <td>2.752606</td>\n",
       "      <td>1.241641</td>\n",
       "      <td>0.500890</td>\n",
       "      <td>2.270333</td>\n",
       "      <td>-0.547419</td>\n",
       "      <td>-0.136957</td>\n",
       "      <td>0.106269</td>\n",
       "      <td>0.179568</td>\n",
       "      <td>-1.668028</td>\n",
       "    </tr>\n",
       "    <tr>\n",
       "      <th>1</th>\n",
       "      <td>-0.108707</td>\n",
       "      <td>-0.692001</td>\n",
       "      <td>-0.400173</td>\n",
       "      <td>-0.201813</td>\n",
       "      <td>0.743098</td>\n",
       "      <td>-0.204552</td>\n",
       "      <td>-0.481477</td>\n",
       "      <td>-0.225748</td>\n",
       "      <td>-0.191218</td>\n",
       "      <td>0.892905</td>\n",
       "      <td>...</td>\n",
       "      <td>0.319409</td>\n",
       "      <td>0.719671</td>\n",
       "      <td>0.610685</td>\n",
       "      <td>-1.074001</td>\n",
       "      <td>0.025869</td>\n",
       "      <td>0.272235</td>\n",
       "      <td>-0.248904</td>\n",
       "      <td>0.305334</td>\n",
       "      <td>-0.035977</td>\n",
       "      <td>-1.582488</td>\n",
       "    </tr>\n",
       "    <tr>\n",
       "      <th>2</th>\n",
       "      <td>2.016905</td>\n",
       "      <td>-0.370213</td>\n",
       "      <td>-0.942051</td>\n",
       "      <td>0.029640</td>\n",
       "      <td>0.433689</td>\n",
       "      <td>0.506718</td>\n",
       "      <td>-2.031664</td>\n",
       "      <td>-2.190053</td>\n",
       "      <td>0.739333</td>\n",
       "      <td>0.022230</td>\n",
       "      <td>...</td>\n",
       "      <td>-0.017412</td>\n",
       "      <td>1.691059</td>\n",
       "      <td>-0.809958</td>\n",
       "      <td>-0.179389</td>\n",
       "      <td>0.494331</td>\n",
       "      <td>0.177022</td>\n",
       "      <td>3.938397</td>\n",
       "      <td>-1.886806</td>\n",
       "      <td>0.271492</td>\n",
       "      <td>-1.496948</td>\n",
       "    </tr>\n",
       "    <tr>\n",
       "      <th>3</th>\n",
       "      <td>-0.466688</td>\n",
       "      <td>-0.021261</td>\n",
       "      <td>-0.245350</td>\n",
       "      <td>0.818471</td>\n",
       "      <td>-0.403779</td>\n",
       "      <td>-0.721840</td>\n",
       "      <td>0.832240</td>\n",
       "      <td>0.448565</td>\n",
       "      <td>-0.856764</td>\n",
       "      <td>-0.403845</td>\n",
       "      <td>...</td>\n",
       "      <td>-0.445574</td>\n",
       "      <td>-0.112117</td>\n",
       "      <td>-0.700169</td>\n",
       "      <td>0.500890</td>\n",
       "      <td>0.722631</td>\n",
       "      <td>0.448170</td>\n",
       "      <td>1.496996</td>\n",
       "      <td>-0.075802</td>\n",
       "      <td>-0.698461</td>\n",
       "      <td>-1.411408</td>\n",
       "    </tr>\n",
       "    <tr>\n",
       "      <th>4</th>\n",
       "      <td>0.016984</td>\n",
       "      <td>-0.297079</td>\n",
       "      <td>1.578113</td>\n",
       "      <td>0.327223</td>\n",
       "      <td>-0.742067</td>\n",
       "      <td>1.794962</td>\n",
       "      <td>-0.284420</td>\n",
       "      <td>0.800381</td>\n",
       "      <td>0.166842</td>\n",
       "      <td>-0.274170</td>\n",
       "      <td>...</td>\n",
       "      <td>0.798950</td>\n",
       "      <td>-0.336060</td>\n",
       "      <td>-0.144611</td>\n",
       "      <td>-0.076881</td>\n",
       "      <td>-0.152028</td>\n",
       "      <td>-0.628142</td>\n",
       "      <td>-1.282629</td>\n",
       "      <td>1.198697</td>\n",
       "      <td>1.377744</td>\n",
       "      <td>-1.325868</td>\n",
       "    </tr>\n",
       "  </tbody>\n",
       "</table>\n",
       "<p>5 rows × 7131 columns</p>\n",
       "</div>"
      ],
      "text/plain": [
       "   (AF1q) mRNA  (HepG2) glucose transporter gene mRNA  (apoargC) long mRNA  \\\n",
       "0     0.125174                              -0.491406            -0.537793   \n",
       "1    -0.108707                              -0.692001            -0.400173   \n",
       "2     2.016905                              -0.370213            -0.942051   \n",
       "3    -0.466688                              -0.021261            -0.245350   \n",
       "4     0.016984                              -0.297079             1.578113   \n",
       "\n",
       "   (ard-1) mRNA  (chromosome 3p25) membrane protein mRNA  \\\n",
       "0      0.057981                                 0.190287   \n",
       "1     -0.201813                                 0.743098   \n",
       "2      0.029640                                 0.433689   \n",
       "3      0.818471                                -0.403779   \n",
       "4      0.327223                                -0.742067   \n",
       "\n",
       "   (clone 14VS) metallothionein-IG (MT1G) gene  (clone 35.3) DRAL mRNA  \\\n",
       "0                                     0.576353                0.832240   \n",
       "1                                    -0.204552               -0.481477   \n",
       "2                                     0.506718               -2.031664   \n",
       "3                                    -0.721840                0.832240   \n",
       "4                                     1.794962               -0.284420   \n",
       "\n",
       "   (clone 8B1) Br-cadherin mRNA  \\\n",
       "0                     -0.357679   \n",
       "1                     -0.225748   \n",
       "2                     -2.190053   \n",
       "3                      0.448565   \n",
       "4                      0.800381   \n",
       "\n",
       "   (clone CC6) NADH-ubiquinone oxidoreductase subunit mRNA; 3' end cds  \\\n",
       "0                                          -0.565462                     \n",
       "1                                          -0.191218                     \n",
       "2                                           0.739333                     \n",
       "3                                          -0.856764                     \n",
       "4                                           0.166842                     \n",
       "\n",
       "   (clone CTG-A4) mRNA sequence  ...  mRNA homologous to S. cerevisiae RAD54  \\\n",
       "0                     -0.496470  ...                                0.719026   \n",
       "1                      0.892905  ...                                0.319409   \n",
       "2                      0.022230  ...                               -0.017412   \n",
       "3                     -0.403845  ...                               -0.445574   \n",
       "4                     -0.274170  ...                                0.798950   \n",
       "\n",
       "   mRNA in the region near the btk gene involved in a-gamma-globulinemia  \\\n",
       "0                                           2.752606                       \n",
       "1                                           0.719671                       \n",
       "2                                           1.691059                       \n",
       "3                                          -0.112117                       \n",
       "4                                          -0.336060                       \n",
       "\n",
       "   mRNA translocon-associated protein delta subunit precursor  \\\n",
       "0                                           1.241641            \n",
       "1                                           0.610685            \n",
       "2                                          -0.809958            \n",
       "3                                          -0.700169            \n",
       "4                                          -0.144611            \n",
       "\n",
       "   mRNA-associated protein mrnp41 mRNA  \\\n",
       "0                             0.500890   \n",
       "1                            -1.074001   \n",
       "2                            -0.179389   \n",
       "3                             0.500890   \n",
       "4                            -0.076881   \n",
       "\n",
       "   mRNA; clone HH109 (screened by the monoclonal antibody of insulin receptor substrate-1 (IRS-1))  \\\n",
       "0                                           2.270333                                                 \n",
       "1                                           0.025869                                                 \n",
       "2                                           0.494331                                                 \n",
       "3                                           0.722631                                                 \n",
       "4                                          -0.152028                                                 \n",
       "\n",
       "   mRNA; clone RES4-22A  mRNA; clone RES4-24A; exon 1; 2; 3; 4  \\\n",
       "0             -0.547419                              -0.136957   \n",
       "1              0.272235                              -0.248904   \n",
       "2              0.177022                               3.938397   \n",
       "3              0.448170                               1.496996   \n",
       "4             -0.628142                              -1.282629   \n",
       "\n",
       "   mRNA; clone RES4-24C; exon 1; 2; 3  mRNA; clone RES4-25; partial cds  \\\n",
       "0                            0.106269                          0.179568   \n",
       "1                            0.305334                         -0.035977   \n",
       "2                           -1.886806                          0.271492   \n",
       "3                           -0.075802                         -0.698461   \n",
       "4                            1.198697                          1.377744   \n",
       "\n",
       "    patient  \n",
       "0 -1.668028  \n",
       "1 -1.582488  \n",
       "2 -1.496948  \n",
       "3 -1.411408  \n",
       "4 -1.325868  \n",
       "\n",
       "[5 rows x 7131 columns]"
      ]
     },
     "execution_count": 14,
     "metadata": {},
     "output_type": "execute_result"
    }
   ],
   "source": [
    "dftrain_scaled = (dftrain - dftrain.mean(numeric_only=True)) / dftrain.std(numeric_only=True)\n",
    "dftrain_scaled.head()"
   ]
  },
  {
   "cell_type": "code",
   "execution_count": 15,
   "id": "7c196c2b",
   "metadata": {},
   "outputs": [],
   "source": [
    "dftrain_scaled.drop('patient',axis=1,inplace=True)"
   ]
  },
  {
   "cell_type": "code",
   "execution_count": 16,
   "id": "2c8bf928",
   "metadata": {},
   "outputs": [],
   "source": [
    "dftrain_scaled['cancer type']=dftrain['cancer type']"
   ]
  },
  {
   "cell_type": "markdown",
   "id": "896d2806",
   "metadata": {},
   "source": [
    "**Scale the test data by hand the exact same way. (Using the mean and standard deviation of the \n",
    "training data).**"
   ]
  },
  {
   "cell_type": "code",
   "execution_count": 17,
   "id": "71675a24",
   "metadata": {},
   "outputs": [
    {
     "data": {
      "text/html": [
       "<div>\n",
       "<style scoped>\n",
       "    .dataframe tbody tr th:only-of-type {\n",
       "        vertical-align: middle;\n",
       "    }\n",
       "\n",
       "    .dataframe tbody tr th {\n",
       "        vertical-align: top;\n",
       "    }\n",
       "\n",
       "    .dataframe thead th {\n",
       "        text-align: right;\n",
       "    }\n",
       "</style>\n",
       "<table border=\"1\" class=\"dataframe\">\n",
       "  <thead>\n",
       "    <tr style=\"text-align: right;\">\n",
       "      <th></th>\n",
       "      <th>(AF1q) mRNA</th>\n",
       "      <th>(HepG2) glucose transporter gene mRNA</th>\n",
       "      <th>(apoargC) long mRNA</th>\n",
       "      <th>(ard-1) mRNA</th>\n",
       "      <th>(chromosome 3p25) membrane protein mRNA</th>\n",
       "      <th>(clone 14VS) metallothionein-IG (MT1G) gene</th>\n",
       "      <th>(clone 35.3) DRAL mRNA</th>\n",
       "      <th>(clone 8B1) Br-cadherin mRNA</th>\n",
       "      <th>(clone CC6) NADH-ubiquinone oxidoreductase subunit mRNA; 3' end cds</th>\n",
       "      <th>(clone CTG-A4) mRNA sequence</th>\n",
       "      <th>...</th>\n",
       "      <th>mRNA homologous to S. cerevisiae RAD54</th>\n",
       "      <th>mRNA in the region near the btk gene involved in a-gamma-globulinemia</th>\n",
       "      <th>mRNA translocon-associated protein delta subunit precursor</th>\n",
       "      <th>mRNA-associated protein mrnp41 mRNA</th>\n",
       "      <th>mRNA; clone HH109 (screened by the monoclonal antibody of insulin receptor substrate-1 (IRS-1))</th>\n",
       "      <th>mRNA; clone RES4-22A</th>\n",
       "      <th>mRNA; clone RES4-24A; exon 1; 2; 3; 4</th>\n",
       "      <th>mRNA; clone RES4-24C; exon 1; 2; 3</th>\n",
       "      <th>mRNA; clone RES4-25; partial cds</th>\n",
       "      <th>patient</th>\n",
       "    </tr>\n",
       "  </thead>\n",
       "  <tbody>\n",
       "    <tr>\n",
       "      <th>0</th>\n",
       "      <td>-0.231216</td>\n",
       "      <td>-0.583345</td>\n",
       "      <td>1.517904</td>\n",
       "      <td>-0.197090</td>\n",
       "      <td>0.903991</td>\n",
       "      <td>0.377396</td>\n",
       "      <td>0.030872</td>\n",
       "      <td>1.269469</td>\n",
       "      <td>0.868801</td>\n",
       "      <td>-0.181545</td>\n",
       "      <td>...</td>\n",
       "      <td>0.918835</td>\n",
       "      <td>-0.932271</td>\n",
       "      <td>-0.436940</td>\n",
       "      <td>0.631354</td>\n",
       "      <td>0.504708</td>\n",
       "      <td>1.317499</td>\n",
       "      <td>-1.618471</td>\n",
       "      <td>1.494867</td>\n",
       "      <td>-0.292729</td>\n",
       "      <td>1.753568</td>\n",
       "    </tr>\n",
       "    <tr>\n",
       "      <th>1</th>\n",
       "      <td>-0.347361</td>\n",
       "      <td>3.219603</td>\n",
       "      <td>0.477154</td>\n",
       "      <td>-0.669444</td>\n",
       "      <td>-0.585299</td>\n",
       "      <td>-0.159787</td>\n",
       "      <td>1.475962</td>\n",
       "      <td>1.298786</td>\n",
       "      <td>0.409594</td>\n",
       "      <td>-0.274170</td>\n",
       "      <td>...</td>\n",
       "      <td>1.261364</td>\n",
       "      <td>-0.344785</td>\n",
       "      <td>0.852750</td>\n",
       "      <td>-0.906261</td>\n",
       "      <td>0.151879</td>\n",
       "      <td>-1.716873</td>\n",
       "      <td>-0.787203</td>\n",
       "      <td>-0.833219</td>\n",
       "      <td>-0.045486</td>\n",
       "      <td>1.839108</td>\n",
       "    </tr>\n",
       "    <tr>\n",
       "      <th>2</th>\n",
       "      <td>-0.452369</td>\n",
       "      <td>1.255443</td>\n",
       "      <td>0.614774</td>\n",
       "      <td>-0.069554</td>\n",
       "      <td>0.351180</td>\n",
       "      <td>-0.249318</td>\n",
       "      <td>-0.231871</td>\n",
       "      <td>0.829699</td>\n",
       "      <td>-0.516911</td>\n",
       "      <td>0.818805</td>\n",
       "      <td>...</td>\n",
       "      <td>-2.066879</td>\n",
       "      <td>-1.365615</td>\n",
       "      <td>-0.282178</td>\n",
       "      <td>-0.505549</td>\n",
       "      <td>-0.266178</td>\n",
       "      <td>-2.126700</td>\n",
       "      <td>-0.968224</td>\n",
       "      <td>-0.126782</td>\n",
       "      <td>-1.351435</td>\n",
       "      <td>1.924648</td>\n",
       "    </tr>\n",
       "    <tr>\n",
       "      <th>3</th>\n",
       "      <td>0.834772</td>\n",
       "      <td>-0.909312</td>\n",
       "      <td>1.070639</td>\n",
       "      <td>-0.858385</td>\n",
       "      <td>1.184522</td>\n",
       "      <td>1.327414</td>\n",
       "      <td>-1.020102</td>\n",
       "      <td>1.108220</td>\n",
       "      <td>0.971971</td>\n",
       "      <td>-1.459770</td>\n",
       "      <td>...</td>\n",
       "      <td>-0.474118</td>\n",
       "      <td>-0.147017</td>\n",
       "      <td>-0.721334</td>\n",
       "      <td>-0.449636</td>\n",
       "      <td>1.158478</td>\n",
       "      <td>-1.621661</td>\n",
       "      <td>-1.249283</td>\n",
       "      <td>1.320078</td>\n",
       "      <td>0.477527</td>\n",
       "      <td>2.010187</td>\n",
       "    </tr>\n",
       "    <tr>\n",
       "      <th>4</th>\n",
       "      <td>-0.317131</td>\n",
       "      <td>-0.971998</td>\n",
       "      <td>0.348135</td>\n",
       "      <td>-0.981197</td>\n",
       "      <td>0.536825</td>\n",
       "      <td>-0.294083</td>\n",
       "      <td>-0.271283</td>\n",
       "      <td>3.087183</td>\n",
       "      <td>0.338791</td>\n",
       "      <td>0.596505</td>\n",
       "      <td>...</td>\n",
       "      <td>-0.354232</td>\n",
       "      <td>-0.397135</td>\n",
       "      <td>0.536610</td>\n",
       "      <td>-1.083320</td>\n",
       "      <td>-0.423320</td>\n",
       "      <td>-0.636421</td>\n",
       "      <td>-1.137336</td>\n",
       "      <td>1.414755</td>\n",
       "      <td>-0.581179</td>\n",
       "      <td>2.095727</td>\n",
       "    </tr>\n",
       "  </tbody>\n",
       "</table>\n",
       "<p>5 rows × 7131 columns</p>\n",
       "</div>"
      ],
      "text/plain": [
       "   (AF1q) mRNA  (HepG2) glucose transporter gene mRNA  (apoargC) long mRNA  \\\n",
       "0    -0.231216                              -0.583345             1.517904   \n",
       "1    -0.347361                               3.219603             0.477154   \n",
       "2    -0.452369                               1.255443             0.614774   \n",
       "3     0.834772                              -0.909312             1.070639   \n",
       "4    -0.317131                              -0.971998             0.348135   \n",
       "\n",
       "   (ard-1) mRNA  (chromosome 3p25) membrane protein mRNA  \\\n",
       "0     -0.197090                                 0.903991   \n",
       "1     -0.669444                                -0.585299   \n",
       "2     -0.069554                                 0.351180   \n",
       "3     -0.858385                                 1.184522   \n",
       "4     -0.981197                                 0.536825   \n",
       "\n",
       "   (clone 14VS) metallothionein-IG (MT1G) gene  (clone 35.3) DRAL mRNA  \\\n",
       "0                                     0.377396                0.030872   \n",
       "1                                    -0.159787                1.475962   \n",
       "2                                    -0.249318               -0.231871   \n",
       "3                                     1.327414               -1.020102   \n",
       "4                                    -0.294083               -0.271283   \n",
       "\n",
       "   (clone 8B1) Br-cadherin mRNA  \\\n",
       "0                      1.269469   \n",
       "1                      1.298786   \n",
       "2                      0.829699   \n",
       "3                      1.108220   \n",
       "4                      3.087183   \n",
       "\n",
       "   (clone CC6) NADH-ubiquinone oxidoreductase subunit mRNA; 3' end cds  \\\n",
       "0                                           0.868801                     \n",
       "1                                           0.409594                     \n",
       "2                                          -0.516911                     \n",
       "3                                           0.971971                     \n",
       "4                                           0.338791                     \n",
       "\n",
       "   (clone CTG-A4) mRNA sequence  ...  mRNA homologous to S. cerevisiae RAD54  \\\n",
       "0                     -0.181545  ...                                0.918835   \n",
       "1                     -0.274170  ...                                1.261364   \n",
       "2                      0.818805  ...                               -2.066879   \n",
       "3                     -1.459770  ...                               -0.474118   \n",
       "4                      0.596505  ...                               -0.354232   \n",
       "\n",
       "   mRNA in the region near the btk gene involved in a-gamma-globulinemia  \\\n",
       "0                                          -0.932271                       \n",
       "1                                          -0.344785                       \n",
       "2                                          -1.365615                       \n",
       "3                                          -0.147017                       \n",
       "4                                          -0.397135                       \n",
       "\n",
       "   mRNA translocon-associated protein delta subunit precursor  \\\n",
       "0                                          -0.436940            \n",
       "1                                           0.852750            \n",
       "2                                          -0.282178            \n",
       "3                                          -0.721334            \n",
       "4                                           0.536610            \n",
       "\n",
       "   mRNA-associated protein mrnp41 mRNA  \\\n",
       "0                             0.631354   \n",
       "1                            -0.906261   \n",
       "2                            -0.505549   \n",
       "3                            -0.449636   \n",
       "4                            -1.083320   \n",
       "\n",
       "   mRNA; clone HH109 (screened by the monoclonal antibody of insulin receptor substrate-1 (IRS-1))  \\\n",
       "0                                           0.504708                                                 \n",
       "1                                           0.151879                                                 \n",
       "2                                          -0.266178                                                 \n",
       "3                                           1.158478                                                 \n",
       "4                                          -0.423320                                                 \n",
       "\n",
       "   mRNA; clone RES4-22A  mRNA; clone RES4-24A; exon 1; 2; 3; 4  \\\n",
       "0              1.317499                              -1.618471   \n",
       "1             -1.716873                              -0.787203   \n",
       "2             -2.126700                              -0.968224   \n",
       "3             -1.621661                              -1.249283   \n",
       "4             -0.636421                              -1.137336   \n",
       "\n",
       "   mRNA; clone RES4-24C; exon 1; 2; 3  mRNA; clone RES4-25; partial cds  \\\n",
       "0                            1.494867                         -0.292729   \n",
       "1                           -0.833219                         -0.045486   \n",
       "2                           -0.126782                         -1.351435   \n",
       "3                            1.320078                          0.477527   \n",
       "4                            1.414755                         -0.581179   \n",
       "\n",
       "    patient  \n",
       "0  1.753568  \n",
       "1  1.839108  \n",
       "2  1.924648  \n",
       "3  2.010187  \n",
       "4  2.095727  \n",
       "\n",
       "[5 rows x 7131 columns]"
      ]
     },
     "execution_count": 17,
     "metadata": {},
     "output_type": "execute_result"
    }
   ],
   "source": [
    "dftest_scaled = (dftest - dftrain.mean(numeric_only=True)) / dftrain.std(numeric_only=True)\n",
    "dftest_scaled.head()"
   ]
  },
  {
   "cell_type": "code",
   "execution_count": 18,
   "id": "78843e02",
   "metadata": {},
   "outputs": [],
   "source": [
    "dftest_scaled.drop('patient',axis=1,inplace=True)"
   ]
  },
  {
   "cell_type": "code",
   "execution_count": 19,
   "id": "5b1a7693",
   "metadata": {},
   "outputs": [],
   "source": [
    "dftest_scaled['cancer type']=dftest['cancer type']"
   ]
  },
  {
   "cell_type": "markdown",
   "id": "a5bd5b36",
   "metadata": {},
   "source": [
    "**Retrain both a logistic regression and Naïve Bayes model using this new scaled data. Does this \n",
    "improve the performance? Why?**"
   ]
  },
  {
   "cell_type": "code",
   "execution_count": 20,
   "id": "1d69e16e",
   "metadata": {},
   "outputs": [],
   "source": [
    "x_train_manscaled = dftrain_scaled.drop('cancer type',axis=1)\n",
    "x_test_manscaled = dftest_scaled.drop('cancer type',axis=1)"
   ]
  },
  {
   "cell_type": "code",
   "execution_count": 21,
   "id": "a41491c9",
   "metadata": {},
   "outputs": [
    {
     "name": "stdout",
     "output_type": "stream",
     "text": [
      "Model Training Score:  1.0\n",
      "Confusion matrix: \n",
      " [[18  0]\n",
      " [ 6  8]]\n",
      "Accuracy:  0.8125\n"
     ]
    }
   ],
   "source": [
    "model = LogisticRegression()\n",
    "\n",
    "model.fit(x_train_manscaled, y_train)\n",
    "\n",
    "y_pred = model.predict(x_test_manscaled)\n",
    "\n",
    "print('Model Training Score: ', model.score(x_train_manscaled,y_train))\n",
    "print(\"Confusion matrix: \\n\", metrics.confusion_matrix(y_test, y_pred, labels=['ALL','AML']))\n",
    "print(\"Accuracy: \", metrics.accuracy_score(y_test, y_pred))"
   ]
  },
  {
   "cell_type": "code",
   "execution_count": 22,
   "id": "2092be0d",
   "metadata": {},
   "outputs": [
    {
     "name": "stdout",
     "output_type": "stream",
     "text": [
      "Model Training Score:  1.0\n",
      "Confusion matrix: \n",
      " [[16  2]\n",
      " [ 1 13]]\n",
      "Accuracy:  0.90625\n"
     ]
    }
   ],
   "source": [
    "model = GaussianNB()\n",
    "\n",
    "model.fit(x_train_manscaled,y_train)\n",
    "\n",
    "y_pred = model.predict(x_test_manscaled)\n",
    "print('Model Training Score: ', model.score(x_train_manscaled,y_train))\n",
    "print(\"Confusion matrix: \\n\", metrics.confusion_matrix(y_test, y_pred, labels=['ALL','AML']))\n",
    "print(\"Accuracy: \", metrics.accuracy_score(y_test, y_pred))"
   ]
  },
  {
   "cell_type": "markdown",
   "id": "e020da5c",
   "metadata": {},
   "source": [
    "> Both models had an improved performance when the scaling was consistent throughout the dataset. The model is fitted to the scaled values in the training data, so using the same scaling values allows the model to predict more accurately. "
   ]
  },
  {
   "cell_type": "markdown",
   "id": "e94038e3",
   "metadata": {},
   "source": [
    "## Part 2 ##"
   ]
  },
  {
   "cell_type": "markdown",
   "id": "d1c854da",
   "metadata": {},
   "source": [
    "**Using only the training data, increase the value of n_components a few at a time and monitor \n",
    "the total sum of the explained variance (pca.explained_variance_ratio_.cumsum()).**"
   ]
  },
  {
   "cell_type": "code",
   "execution_count": 23,
   "id": "f6abbe87",
   "metadata": {},
   "outputs": [
    {
     "name": "stdout",
     "output_type": "stream",
     "text": [
      "30\n",
      "[0.14160178 0.25887229 0.32470765 0.37114269 0.41593652 0.45377108\n",
      " 0.49028899 0.52256446 0.55262452 0.57871474 0.60331123 0.62601503\n",
      " 0.64798886 0.66892235 0.68894065 0.70786795 0.72580368 0.74303738\n",
      " 0.75991715 0.77579443 0.79135625 0.80636007 0.82059574 0.83464022\n",
      " 0.84827473 0.86159723 0.87466785 0.88744908 0.89998391 0.91215863]\n"
     ]
    }
   ],
   "source": [
    "from sklearn.decomposition import PCA\n",
    "k = 0\n",
    "val = 0.0\n",
    "while val < 0.9:\n",
    "    k += 1\n",
    "    pca = PCA(n_components = k).fit(x_train_manscaled)\n",
    "    val = pca.explained_variance_ratio_.cumsum()[k-1]\n",
    "print(k)\n",
    "pca = PCA(n_components = k).fit(x_train_manscaled)\n",
    "print(pca.explained_variance_ratio_.cumsum())"
   ]
  },
  {
   "cell_type": "markdown",
   "id": "708337e3",
   "metadata": {},
   "source": [
    "**How many principal components do you need to explain 90% of the variance?**"
   ]
  },
  {
   "cell_type": "markdown",
   "id": "33754761",
   "metadata": {},
   "source": [
    "> 30 principal components are necessary to explain 90% of the variance. "
   ]
  },
  {
   "cell_type": "markdown",
   "id": "d0952ce6",
   "metadata": {},
   "source": [
    "**Once you determine that, create a new x array and set it equal to “pca.transform()” calling your \n",
    "previously scaled x training data. Do the same for the previously scaled x test data.**"
   ]
  },
  {
   "cell_type": "code",
   "execution_count": 24,
   "id": "17ab2fc1",
   "metadata": {},
   "outputs": [],
   "source": [
    "x_train_manscaled_pca = pca.transform(x_train_manscaled)\n",
    "x_test_manscaled_pca = pca.transform(x_test_manscaled)"
   ]
  },
  {
   "cell_type": "markdown",
   "id": "0b2944b1",
   "metadata": {},
   "source": [
    "**Determine the classification matrices and accuracies. How did they change from the models in \n",
    "Part 1? Do you think these models are more generalizable to new patients? Why or why not?**"
   ]
  },
  {
   "cell_type": "code",
   "execution_count": 25,
   "id": "b9783606",
   "metadata": {},
   "outputs": [
    {
     "name": "stdout",
     "output_type": "stream",
     "text": [
      "Model Training Score:  1.0\n",
      "Confusion matrix: \n",
      " [[18  0]\n",
      " [ 7  7]]\n",
      "Accuracy:  0.78125\n"
     ]
    }
   ],
   "source": [
    "model = LogisticRegression()\n",
    "\n",
    "model.fit(x_train_manscaled_pca, y_train)\n",
    "\n",
    "y_pred = model.predict(x_test_manscaled_pca)\n",
    "\n",
    "print('Model Training Score: ', model.score(x_train_manscaled_pca,y_train))\n",
    "print(\"Confusion matrix: \\n\", metrics.confusion_matrix(y_test, y_pred, labels=['ALL','AML']))\n",
    "print(\"Accuracy: \", metrics.accuracy_score(y_test, y_pred))"
   ]
  },
  {
   "cell_type": "code",
   "execution_count": 26,
   "id": "7dc570b2",
   "metadata": {},
   "outputs": [
    {
     "name": "stdout",
     "output_type": "stream",
     "text": [
      "Model Training Score:  0.975\n",
      "Confusion matrix: \n",
      " [[18  0]\n",
      " [10  4]]\n",
      "Accuracy:  0.6875\n"
     ]
    }
   ],
   "source": [
    "model = GaussianNB()\n",
    "\n",
    "model.fit(x_train_manscaled_pca,y_train)\n",
    "\n",
    "y_pred = model.predict(x_test_manscaled_pca)\n",
    "print('Model Training Score: ', model.score(x_train_manscaled_pca,y_train))\n",
    "print(\"Confusion matrix: \\n\", metrics.confusion_matrix(y_test, y_pred, labels=['ALL','AML']))\n",
    "print(\"Accuracy: \", metrics.accuracy_score(y_test, y_pred))"
   ]
  },
  {
   "cell_type": "markdown",
   "id": "24d92abe",
   "metadata": {},
   "source": [
    "> The accuracies decreased from part 1. The models are less generalizable to new patients than the original models found in part 1 as they are less accurate predictors of the patient's classification. "
   ]
  },
  {
   "cell_type": "markdown",
   "id": "1608af56",
   "metadata": {},
   "source": [
    "**Was PCA appropriate to perform here? Why do you think it changed the accuracy the way it did?**"
   ]
  },
  {
   "cell_type": "markdown",
   "id": "81a57c58",
   "metadata": {},
   "source": [
    "> I would have thought that PCA is appropriate to use in this situation as the model scores were consistently higher than the test scores which could mean overfitting is present. PCA would likely reduce overfitting. However this is not the case in this instance as the model training scores are still very high compared to the test accuracy of the model. The model accuracy likely decreased because information was lost when the least strong predictors were dropped. "
   ]
  },
  {
   "cell_type": "markdown",
   "id": "cf8597d5",
   "metadata": {},
   "source": [
    "## Part 3 ##"
   ]
  },
  {
   "cell_type": "code",
   "execution_count": 27,
   "id": "8e767baf",
   "metadata": {},
   "outputs": [],
   "source": [
    "from imblearn.over_sampling import SMOTE"
   ]
  },
  {
   "cell_type": "markdown",
   "id": "139a05e9",
   "metadata": {},
   "source": [
    "**As with PCA, create a new “smote” variable and assign it the “SMOTE()” object. Create new x and y arrays by setting it equal to “smote.fit_resample()” passing the scaled x data and the old y data. (For both the training and test data).**"
   ]
  },
  {
   "cell_type": "code",
   "execution_count": 28,
   "id": "1a14a1f1",
   "metadata": {},
   "outputs": [],
   "source": [
    "smote = SMOTE()\n",
    "\n",
    "x_bal_train, y_bal_train = smote.fit_resample(x_train_manscaled,y_train)\n",
    "x_bal_test, y_bal_test = smote.fit_resample(x_test_manscaled,y_test)"
   ]
  },
  {
   "cell_type": "markdown",
   "id": "bb999fa0",
   "metadata": {},
   "source": [
    "**What is the distribution of the outputs in the new y array?**"
   ]
  },
  {
   "cell_type": "code",
   "execution_count": 29,
   "id": "eeb2b9b8",
   "metadata": {},
   "outputs": [
    {
     "data": {
      "text/plain": [
       "<AxesSubplot:xlabel='cancer type', ylabel='count'>"
      ]
     },
     "execution_count": 29,
     "metadata": {},
     "output_type": "execute_result"
    },
    {
     "data": {
      "image/png": "[encoded data removed]",
      "text/plain": [
       "<Figure size 640x480 with 1 Axes>"
      ]
     },
     "metadata": {},
     "output_type": "display_data"
    }
   ],
   "source": [
    "sns.countplot(x=y_bal_train)"
   ]
  },
  {
   "cell_type": "code",
   "execution_count": 30,
   "id": "dca9a3b3",
   "metadata": {},
   "outputs": [
    {
     "data": {
      "text/plain": [
       "<AxesSubplot:xlabel='cancer type', ylabel='count'>"
      ]
     },
     "execution_count": 30,
     "metadata": {},
     "output_type": "execute_result"
    },
    {
     "data": {
      "image/png": "[encoded data removed]",
      "text/plain": [
       "<Figure size 640x480 with 1 Axes>"
      ]
     },
     "metadata": {},
     "output_type": "display_data"
    }
   ],
   "source": [
    "sns.countplot(x=y_bal_test)"
   ]
  },
  {
   "cell_type": "markdown",
   "id": "05d75f05",
   "metadata": {},
   "source": [
    "**Feed this data into a new logistic regression model and a new Naïve Bayes model. Determine \n",
    "the classification matrices and accuracies. How did they change from the models in Part 1?**"
   ]
  },
  {
   "cell_type": "code",
   "execution_count": 31,
   "id": "19dbcbfe",
   "metadata": {},
   "outputs": [
    {
     "name": "stdout",
     "output_type": "stream",
     "text": [
      "Model Training Score:  1.0\n",
      "Confusion matrix: \n",
      " [[18  0]\n",
      " [ 7 11]]\n",
      "Accuracy:  0.8055555555555556\n"
     ]
    }
   ],
   "source": [
    "model = LogisticRegression()\n",
    "\n",
    "model.fit(x_bal_train, y_bal_train)\n",
    "\n",
    "y_pred = model.predict(x_bal_test)\n",
    "\n",
    "print('Model Training Score: ', model.score(x_bal_train, y_bal_train))\n",
    "print(\"Confusion matrix: \\n\", metrics.confusion_matrix(y_bal_test, y_pred, labels=['ALL','AML']))\n",
    "print(\"Accuracy: \", metrics.accuracy_score(y_bal_test, y_pred))"
   ]
  },
  {
   "cell_type": "code",
   "execution_count": 32,
   "id": "a8c99924",
   "metadata": {},
   "outputs": [
    {
     "name": "stdout",
     "output_type": "stream",
     "text": [
      "Model Training Score:  1.0\n",
      "Confusion matrix: \n",
      " [[16  2]\n",
      " [ 2 16]]\n",
      "Accuracy:  0.8888888888888888\n"
     ]
    }
   ],
   "source": [
    "model = GaussianNB()\n",
    "\n",
    "model.fit(x_bal_train, y_bal_train)\n",
    "\n",
    "y_pred = model.predict(x_bal_test)\n",
    "\n",
    "print('Model Training Score: ', model.score(x_bal_train, y_bal_train))\n",
    "print(\"Confusion matrix: \\n\", metrics.confusion_matrix(y_bal_test, y_pred, labels=['ALL','AML']))\n",
    "print(\"Accuracy: \", metrics.accuracy_score(y_bal_test, y_pred))"
   ]
  },
  {
   "cell_type": "markdown",
   "id": "1fdc93a0",
   "metadata": {},
   "source": [
    "> The confusion matrix now has 36 values in it and the total amount of AML and ALL cases are the same. The Naive Bayes model incorrectly predicted both AML and ALL cases while the logistic regression model only incorrectly predicted the AML cases. The accuracies were the highest of all models created with the exception of the model without PCA and SMOTE and with manual scaling. "
   ]
  },
  {
   "cell_type": "markdown",
   "id": "a2fea6ec",
   "metadata": {},
   "source": [
    "## Part 4 ##"
   ]
  },
  {
   "cell_type": "markdown",
   "id": "f1ecc6c7",
   "metadata": {},
   "source": [
    "> If I were to build a model from this data that was generalizable to new patients, I would scale the data using StandardScaler or manually scale it by subtracting the mean and then dividing that by the variance. I would use the same scaler for the training and test set data rather than creating a new scaler for each set. Using different scalers resulted in the model accuracy being lower than it was when using the same scaler. I would not use PCA or SMOTE as they both yielded models with lower accuracies. These were the circumstances that I found to produce the most accurate model. "
   ]
  }
 ],
 "metadata": {
  "kernelspec": {
   "display_name": "Python 3 (ipykernel)",
   "language": "python",
   "name": "python3"
  },
  "language_info": {
   "codemirror_mode": {
    "name": "ipython",
    "version": 3
   },
   "file_extension": ".py",
   "mimetype": "text/x-python",
   "name": "python",
   "nbconvert_exporter": "python",
   "pygments_lexer": "ipython3",
   "version": "3.9.13"
  }
 },
 "nbformat": 4,
 "nbformat_minor": 5
}
